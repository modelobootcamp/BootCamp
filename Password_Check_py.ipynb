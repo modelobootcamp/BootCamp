{
  "nbformat": 4,
  "nbformat_minor": 0,
  "metadata": {
    "colab": {
      "name": "Password_Check.py",
      "version": "0.3.2",
      "provenance": [],
      "collapsed_sections": [],
      "include_colab_link": true
    },
    "kernelspec": {
      "name": "python2",
      "display_name": "Python 2"
    }
  },
  "cells": [
    {
      "cell_type": "markdown",
      "metadata": {
        "id": "view-in-github",
        "colab_type": "text"
      },
      "source": [
        "<a href=\"https://colab.research.google.com/github/modelobootcamp/BootCamp/blob/master/Password_Check_py.ipynb\" target=\"_parent\"><img src=\"https://colab.research.google.com/assets/colab-badge.svg\" alt=\"Open In Colab\"/></a>"
      ]
    },
    {
      "metadata": {
        "id": "tJzIHeFuFJYJ",
        "colab_type": "code",
        "outputId": "6fbe936a-5d20-4e66-aaa2-d13c71275e1d",
        "colab": {
          "base_uri": "https://localhost:8080/",
          "height": 129
        }
      },
      "cell_type": "code",
      "source": [
        "correct_password = \"python123\"\n",
        "name = input(\"Enter name: \")\n",
        "surname + input(\"Enter Surname: \")\n",
        "password = input(\"Enter Password: \")\n",
        "\n",
        "while correct_password != password:\n",
        "    password = input(\"Wrong Password! Enter Again: \")\n",
        "    \n",
        "messag = \"Hi %s you are logged in\" % (name,surname))\n",
        "print(message)\n",
        "\n"
      ],
      "execution_count": 2,
      "outputs": [
        {
          "output_type": "error",
          "ename": "SyntaxError",
          "evalue": "ignored",
          "traceback": [
            "\u001b[0;36m  File \u001b[0;32m\"<ipython-input-2-a2cfb4eb8670>\"\u001b[0;36m, line \u001b[0;32m9\u001b[0m\n\u001b[0;31m    messag = \"Hi %s you are logged in\" % (name,surname))\u001b[0m\n\u001b[0m                                                       ^\u001b[0m\n\u001b[0;31mSyntaxError\u001b[0m\u001b[0;31m:\u001b[0m invalid syntax\n"
          ]
        }
      ]
    }
  ]
}